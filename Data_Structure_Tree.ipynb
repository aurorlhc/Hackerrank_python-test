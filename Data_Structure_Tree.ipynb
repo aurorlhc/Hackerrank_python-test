{
 "cells": [
  {
   "cell_type": "markdown",
   "metadata": {},
   "source": [
    "Preorder Traverssal"
   ]
  },
  {
   "cell_type": "code",
   "execution_count": null,
   "metadata": {
    "collapsed": true
   },
   "outputs": [],
   "source": [
    "def preOrder(root):\n",
    "    #Write your code here    \n",
    "    if root:\n",
    "        print root.data,    # ',' to make sure print on the same line \n",
    "        preOrder(root.left)\n",
    "        preOrder(root.right)"
   ]
  },
  {
   "cell_type": "markdown",
   "metadata": {},
   "source": [
    "Postorder Traversal"
   ]
  },
  {
   "cell_type": "code",
   "execution_count": null,
   "metadata": {
    "collapsed": true
   },
   "outputs": [],
   "source": [
    "def postOrder(root):\n",
    "    #Write your code here\n",
    "    if root:\n",
    "        postOrder(root.left)\n",
    "        postOrder(root.right)\n",
    "        print root.data,    # ',' to make sure print on the same line "
   ]
  },
  {
   "cell_type": "markdown",
   "metadata": {},
   "source": [
    "Inorder Traversal"
   ]
  },
  {
   "cell_type": "code",
   "execution_count": null,
   "metadata": {
    "collapsed": true
   },
   "outputs": [],
   "source": [
    "def inOrder(root):\n",
    "    #Write your code here\n",
    "    if root:\n",
    "        inOrder(root.left)\n",
    "        print root.data,    # ',' to make sure print on the same line \n",
    "        inOrder(root.right)"
   ]
  },
  {
   "cell_type": "markdown",
   "metadata": {},
   "source": [
    "Height of a Binary Tree"
   ]
  },
  {
   "cell_type": "code",
   "execution_count": null,
   "metadata": {
    "collapsed": true
   },
   "outputs": [],
   "source": [
    "def height(root):\n",
    "    if root == None:\n",
    "        return 0\n",
    "    H = 0\n",
    "    if root.left or root.right:\n",
    "        H += 1\n",
    "        H += max(height(root.left), height(root.right))\n",
    "  \n",
    "    return H"
   ]
  },
  {
   "cell_type": "markdown",
   "metadata": {},
   "source": [
    "Top view (C++)"
   ]
  },
  {
   "cell_type": "code",
   "execution_count": null,
   "metadata": {
    "collapsed": true
   },
   "outputs": [],
   "source": [
    "void move_left(node *root)\n",
    "    {\n",
    "        if(root != NULL)\n",
    "            {\n",
    "                move_left(root->left);\n",
    "                cout<<root->data<<\" \";\n",
    "            }\n",
    "    }\n",
    "\n",
    "void move_right(node *root)\n",
    "    {\n",
    "        if(root != NULL)\n",
    "            {\n",
    "                cout<<root->data<<\" \";\n",
    "                move_right(root->right);\n",
    "            }   \n",
    "    }\n",
    "\n",
    "void top_view(node * root)\n",
    "{\n",
    "    if(root != NULL)\n",
    "        {\n",
    "            move_left(root->left);\n",
    "            cout<<root->data<<\" \";\n",
    "            move_right(root->right);\n",
    "    \n",
    "        }\n",
    "  \n",
    "}"
   ]
  },
  {
   "cell_type": "markdown",
   "metadata": {},
   "source": [
    "Level Order Traversal (C++)"
   ]
  },
  {
   "cell_type": "code",
   "execution_count": null,
   "metadata": {
    "collapsed": true
   },
   "outputs": [],
   "source": [
    "#include <queue>\n",
    "void LevelOrder(node * root)\n",
    "{\n",
    "  queue<node *> q;\n",
    "  node *temp=root;\n",
    "  if(root != NULL)\n",
    "  {\n",
    "    q.push(root);\n",
    "  }\n",
    "  while(!q.empty())\n",
    "    {\n",
    "       cout<<temp->data<<\" \";\n",
    "       if(temp->left != NULL)\n",
    "        {\n",
    "            q.push(temp->left);\n",
    "        }\n",
    "       if(temp->right != NULL)\n",
    "        {\n",
    "            q.push(temp->right);\n",
    "        }\n",
    "         \n",
    "       q.pop();\n",
    "       temp= q.front();  \n",
    "    }  \n",
    "}"
   ]
  },
  {
   "cell_type": "markdown",
   "metadata": {},
   "source": [
    "Binary Search Tree -- Insertion"
   ]
  }
 ],
 "metadata": {
  "kernelspec": {
   "display_name": "Python 2",
   "language": "python",
   "name": "python2"
  },
  "language_info": {
   "codemirror_mode": {
    "name": "ipython",
    "version": 2
   },
   "file_extension": ".py",
   "mimetype": "text/x-python",
   "name": "python",
   "nbconvert_exporter": "python",
   "pygments_lexer": "ipython2",
   "version": "2.7.13"
  }
 },
 "nbformat": 4,
 "nbformat_minor": 2
}
