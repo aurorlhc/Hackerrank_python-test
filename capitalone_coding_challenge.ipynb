{
 "cells": [
  {
   "cell_type": "code",
   "execution_count": null,
   "metadata": {},
   "outputs": [],
   "source": [
    "import sys\n",
    "from collections import Counter\n",
    "\n",
    "ss = 'A is before B!'\n",
    "readin = ''.join(ss.strip().split(' '))\n",
    "readin = readin.lower()\n",
    "cr = Counter(readin)\n",
    "re = []\n",
    "for s in readin: \n",
    "    if s not in re:\n",
    "        re.append(s)\n",
    "        re.append(cr[s])\n",
    "    else:\n",
    "        continue\n",
    "' '.join(map(str,re))"
   ]
  },
  {
   "cell_type": "code",
   "execution_count": null,
   "metadata": {
    "scrolled": true
   },
   "outputs": [],
   "source": [
    "import sys\n",
    "cms = 0\n",
    "\n",
    "while True:\n",
    "    try:\n",
    "        [t,p] = map(int, raw_input().strip().split(','))\n",
    "        if t == 0 and p == 0:\n",
    "            cms += 0\n",
    "        elif t == 1 and p == 0:\n",
    "            cms -= 50\n",
    "        elif t == 0 and p == 1:\n",
    "            cms -= 25.1\n",
    "        else:\n",
    "            cms += 50\n",
    "    except (EOFError):\n",
    "        break\n",
    "print '%.1f' % cms"
   ]
  },
  {
   "cell_type": "code",
   "execution_count": null,
   "metadata": {},
   "outputs": [],
   "source": [
    "import sys\n",
    "# values = map(float, raw_input().strip().split(' '))\n",
    "values = [5.65, 5.43, 6.12, 6.43, 4.56, 5.1, 5.4, 5.77, 4.9]\n",
    "SUM = sum(values)\n",
    "mean = SUM/len(values)\n",
    "squared = sum([(value-mean)**2 for value in values])\n",
    "std = (squared/(len(values)-1))**0.5\n",
    "values = [(value-mean)/std for value in values]\n",
    "l1 = sum(map(abs, values))\n",
    "\n",
    "print '%.3f' % l1"
   ]
  },
  {
   "cell_type": "code",
   "execution_count": null,
   "metadata": {
    "collapsed": true
   },
   "outputs": [],
   "source": [
    "Enter your code here. Read input from STDIN. Print output to STDOUT\n",
    "import sys\n",
    "\n",
    "l1 = map(int, raw_input().strip().split(','))\n",
    "l2 = map(int, raw_input().strip().split(','))\n",
    "\n",
    "move = 0\n",
    "\n",
    "for i in range(len(l1)):\n",
    "    j = l2.index(l1[i])\n",
    "    move = max(move, abs(i-j))\n",
    "print move"
   ]
  }
 ],
 "metadata": {
  "kernelspec": {
   "display_name": "Python 2",
   "language": "python",
   "name": "python2"
  },
  "language_info": {
   "codemirror_mode": {
    "name": "ipython",
    "version": 2
   },
   "file_extension": ".py",
   "mimetype": "text/x-python",
   "name": "python",
   "nbconvert_exporter": "python",
   "pygments_lexer": "ipython2",
   "version": "2.7.13"
  }
 },
 "nbformat": 4,
 "nbformat_minor": 2
}
