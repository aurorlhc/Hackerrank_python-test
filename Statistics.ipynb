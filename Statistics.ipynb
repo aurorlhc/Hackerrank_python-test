{
 "cells": [
  {
   "cell_type": "markdown",
   "metadata": {},
   "source": [
    "Day 0:\n",
    "\n",
    "Mean, Median, Mode"
   ]
  },
  {
   "cell_type": "code",
   "execution_count": null,
   "metadata": {
    "collapsed": true
   },
   "outputs": [],
   "source": [
    "#use numpy and scipy packages\n",
    "\n",
    "import sys\n",
    "import numpy as np\n",
    "from scipy import stats\n",
    "N = int(raw_input())\n",
    "arr = map(int, raw_input().strip().split(\" \"))\n",
    "\n",
    "print(np.mean(arr))\n",
    "print(np.median(arr))\n",
    "print(int(stats.mode(arr)[0]))"
   ]
  },
  {
   "cell_type": "markdown",
   "metadata": {},
   "source": [
    "Weighted Mean"
   ]
  },
  {
   "cell_type": "code",
   "execution_count": null,
   "metadata": {
    "collapsed": true
   },
   "outputs": [],
   "source": [
    "#this problem cannot use numpy, but it is pretty simple\n",
    "\n",
    "import sys\n",
    "# import numpy as np\n",
    "N = int(raw_input())\n",
    "arr = map(int, raw_input().split(\" \"))\n",
    "weight = map(int, raw_input().split(\" \"))\n",
    "\n",
    "ave = 0\n",
    "count = 0\n",
    "\n",
    "for i in range(N):\n",
    "    ave += arr[i]*weight[i]\n",
    "    count += weight[i]\n",
    "    \n",
    "ave = ave/(count+0.0)\n",
    "print(\"%.1f\" % ave)"
   ]
  },
  {
   "cell_type": "markdown",
   "metadata": {},
   "source": [
    "Day 4:\n",
    "\n",
    "Binomial Distribution"
   ]
  },
  {
   "cell_type": "code",
   "execution_count": null,
   "metadata": {
    "collapsed": true
   },
   "outputs": [],
   "source": [
    "import sys\n",
    "\n",
    "[r1, r2] = map(float, raw_input().split(' '))\n",
    "p = r1/(r1 + r2)\n",
    "n = 6\n",
    "P = 0\n",
    "\n",
    "def compute_binomial(x, n, p):\n",
    "    x1 = 1\n",
    "    x2 = 1\n",
    "    x3 = 1\n",
    "    for i in range(1,x+1):\n",
    "        x1 = x1*i       \n",
    "    for i in range(1,n+1):\n",
    "        x2 = x2*i  \n",
    "    for i in range(1, n-x+1):\n",
    "        x3 = x3*i \n",
    "    return (p**x)*((1-p)**(n-x))*x2/(x3*x1)\n",
    "\n",
    "for x in range(3, 7):\n",
    "    P += compute_binomial(x, n, p)\n",
    "    \n",
    "print('%.3f'%P)"
   ]
  },
  {
   "cell_type": "markdown",
   "metadata": {},
   "source": [
    "Geometric Distribution"
   ]
  },
  {
   "cell_type": "code",
   "execution_count": null,
   "metadata": {
    "collapsed": true
   },
   "outputs": [],
   "source": [
    "import sys\n",
    "\n",
    "[m,n] = map(float, raw_input().split(' '))\n",
    "count = int(raw_input())\n",
    "\n",
    "p = m/n\n",
    "\n",
    "P = ((1-p)**(count-1))*p\n",
    "\n",
    "print('%.3f'%P)"
   ]
  },
  {
   "cell_type": "markdown",
   "metadata": {},
   "source": [
    "Poisson Distribution"
   ]
  },
  {
   "cell_type": "code",
   "execution_count": null,
   "metadata": {
    "collapsed": true
   },
   "outputs": [],
   "source": [
    "import sys\n",
    "\n",
    "lam = float(raw_input())\n",
    "K = int(raw_input())\n",
    "e = 2.71828\n",
    "\n",
    "def poisson_distr(lam, K, e):\n",
    "    k = 1\n",
    "    for i in range(1, K+1):\n",
    "        k *= i\n",
    "    return (lam**K)*(e**(-lam))/k \n",
    "    \n",
    "P = poisson_distr(lam, K, e)\n",
    "\n",
    "print('%.3f'%P)"
   ]
  },
  {
   "cell_type": "code",
   "execution_count": null,
   "metadata": {
    "collapsed": true
   },
   "outputs": [],
   "source": [
    "#For explanations of replacing x^2 with mean(x) and mean(x)^2, see first post in discussion section on HackerRank...\n",
    "\n",
    "import sys\n",
    "\n",
    "[m1, m2] = map(float, raw_input().split(' '))\n",
    "\n",
    "C1 = 160 + 40*(m1 + m1**2)\n",
    "C2 = 128 + 40*(m2 + m2**2)\n",
    "\n",
    "print('%.3f'%C1)\n",
    "print('%.3f'%C2)"
   ]
  },
  {
   "cell_type": "markdown",
   "metadata": {},
   "source": [
    "Normal Distribution"
   ]
  },
  {
   "cell_type": "code",
   "execution_count": null,
   "metadata": {
    "collapsed": true
   },
   "outputs": [],
   "source": [
    "import sys\n",
    "import math\n",
    "\n",
    "[mu, sigma] = map(float, raw_input().split(' '))\n",
    "X1 = float(raw_input())\n",
    "[X2, X3] = map(float, raw_input().split(' '))\n",
    "\n",
    "def erf(x):\n",
    "    return math.erf(x)   #use the python built-in erf function   \n",
    "\n",
    "def cum_distr_fn(mu, sigma, x):\n",
    "    return 0.5*(1 + erf((x-mu)/(sigma*(2**0.5))))\n",
    "\n",
    "P1 = cum_distr_fn(mu, sigma, X1)\n",
    "P2 = cum_distr_fn(mu, sigma, X2)\n",
    "P3 = cum_distr_fn(mu, sigma, X3)\n",
    "\n",
    "print('%.3f'%P1)\n",
    "print('%.3f'%(P3-P2))"
   ]
  }
 ],
 "metadata": {
  "kernelspec": {
   "display_name": "Python 2",
   "language": "python",
   "name": "python2"
  },
  "language_info": {
   "codemirror_mode": {
    "name": "ipython",
    "version": 2
   },
   "file_extension": ".py",
   "mimetype": "text/x-python",
   "name": "python",
   "nbconvert_exporter": "python",
   "pygments_lexer": "ipython2",
   "version": "2.7.13"
  }
 },
 "nbformat": 4,
 "nbformat_minor": 2
}
