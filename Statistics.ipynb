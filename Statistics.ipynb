{
 "cells": [
  {
   "cell_type": "markdown",
   "metadata": {},
   "source": [
    "Day 0:\n",
    "\n",
    "Mean, Median, Mode"
   ]
  },
  {
   "cell_type": "code",
   "execution_count": null,
   "metadata": {
    "collapsed": true
   },
   "outputs": [],
   "source": [
    "#use numpy and scipy packages\n",
    "\n",
    "import sys\n",
    "import numpy as np\n",
    "from scipy import stats\n",
    "N = int(raw_input())\n",
    "arr = map(int, raw_input().strip().split(\" \"))\n",
    "\n",
    "print(np.mean(arr))\n",
    "print(np.median(arr))\n",
    "print(int(stats.mode(arr)[0]))"
   ]
  },
  {
   "cell_type": "markdown",
   "metadata": {},
   "source": [
    "Weighted Mean"
   ]
  },
  {
   "cell_type": "code",
   "execution_count": null,
   "metadata": {
    "collapsed": true
   },
   "outputs": [],
   "source": [
    "#this problem cannot use numpy, but it is pretty simple\n",
    "\n",
    "import sys\n",
    "# import numpy as np\n",
    "N = int(raw_input())\n",
    "arr = map(int, raw_input().split(\" \"))\n",
    "weight = map(int, raw_input().split(\" \"))\n",
    "\n",
    "ave = 0\n",
    "count = 0\n",
    "\n",
    "for i in range(N):\n",
    "    ave += arr[i]*weight[i]\n",
    "    count += weight[i]\n",
    "    \n",
    "ave = ave/(count+0.0)\n",
    "print(\"%.1f\" % ave)"
   ]
  }
 ],
 "metadata": {
  "kernelspec": {
   "display_name": "Python 2",
   "language": "python",
   "name": "python2"
  },
  "language_info": {
   "codemirror_mode": {
    "name": "ipython",
    "version": 2
   },
   "file_extension": ".py",
   "mimetype": "text/x-python",
   "name": "python",
   "nbconvert_exporter": "python",
   "pygments_lexer": "ipython2",
   "version": "2.7.13"
  }
 },
 "nbformat": 4,
 "nbformat_minor": 2
}
