{
 "cells": [
  {
   "cell_type": "markdown",
   "metadata": {},
   "source": [
    "Day 0:\n",
    "\n",
    "Mean, Median, Mode"
   ]
  },
  {
   "cell_type": "code",
   "execution_count": null,
   "metadata": {
    "collapsed": true
   },
   "outputs": [],
   "source": [
    "#use numpy and scipy packages\n",
    "\n",
    "import sys\n",
    "import numpy as np\n",
    "from scipy import stats\n",
    "N = int(raw_input())\n",
    "arr = map(int, raw_input().strip().split(\" \"))\n",
    "\n",
    "print(np.mean(arr))\n",
    "print(np.median(arr))\n",
    "print(int(stats.mode(arr)[0]))"
   ]
  },
  {
   "cell_type": "markdown",
   "metadata": {},
   "source": [
    "Weighted Mean"
   ]
  },
  {
   "cell_type": "code",
   "execution_count": null,
   "metadata": {
    "collapsed": true
   },
   "outputs": [],
   "source": [
    "#this problem cannot use numpy, but it is pretty simple\n",
    "\n",
    "import sys\n",
    "# import numpy as np\n",
    "N = int(raw_input())\n",
    "arr = map(int, raw_input().split(\" \"))\n",
    "weight = map(int, raw_input().split(\" \"))\n",
    "\n",
    "ave = 0\n",
    "count = 0\n",
    "\n",
    "for i in range(N):\n",
    "    ave += arr[i]*weight[i]\n",
    "    count += weight[i]\n",
    "    \n",
    "ave = ave/(count+0.0)\n",
    "print(\"%.1f\" % ave)"
   ]
  },
  {
   "cell_type": "markdown",
   "metadata": {},
   "source": [
    "Day 1:\n",
    "\n",
    "Quartiles"
   ]
  },
  {
   "cell_type": "code",
   "execution_count": null,
   "metadata": {},
   "outputs": [],
   "source": [
    "#using numpy package\n",
    "\n",
    "import sys\n",
    "import numpy as np\n",
    "\n",
    "#n = int(raw_input())\n",
    "#Q = map(int, raw_input().split(' '))\n",
    "\n",
    "n = 9\n",
    "Q = [3,7,8,5,12,14,21,13,18]\n",
    "Q = np.sort(Q)\n",
    "\n",
    "if len(Q)%2 == 0:  #even number\n",
    "    L = Q[:len(Q)/2]\n",
    "    U = Q[len(Q)/2:]\n",
    "    q1 = np.median(L)\n",
    "    q2 = np.median(Q)\n",
    "    q3 = np.median(U)\n",
    "else:\n",
    "    L = Q[:(len(Q)-1)/2]\n",
    "    U = Q[(len(Q)+1)/2:]\n",
    "    q1 = np.median(L)\n",
    "    q2 = np.median(Q)\n",
    "    q3 = np.median(U)\n",
    "    \n",
    "print('%d\\n%d\\n%d'%(q1, q2, q3))"
   ]
  },
  {
   "cell_type": "code",
   "execution_count": null,
   "metadata": {
    "collapsed": true
   },
   "outputs": [],
   "source": [
    "#without numpy package\n",
    "\n",
    "import sys\n",
    "\n",
    "num = int(raw_input())\n",
    "Q = sorted(map(int, raw_input().split(' ')))\n",
    "mid = len(Q) // 2 # floor division\n",
    "\n",
    "def median(median_numbers):\n",
    "    middle = len(median_numbers) // 2  # floor division\n",
    "    if (len(median_numbers) % 2 == 0):  # even\n",
    "        return (median_numbers[middle-1] + median_numbers[middle]) / 2\n",
    "    else:\n",
    "        return median_numbers[middle]\n",
    "\n",
    "    \n",
    "# actual program starts here    \n",
    "if (len(Q) % 2 == 0):    # even\n",
    "    Q1 = median(Q[:mid])\n",
    "    Q3 = median(Q[mid:])\n",
    "else:\n",
    "    # if odd set of numbers\n",
    "    Q1 = median(Q[:mid])\n",
    "    Q3 = median(Q[mid+1:])\n",
    "\n",
    "print Q1\n",
    "print median(Q)\n",
    "print Q3"
   ]
  },
  {
   "cell_type": "markdown",
   "metadata": {},
   "source": [
    "Standard Deviation"
   ]
  },
  {
   "cell_type": "code",
   "execution_count": null,
   "metadata": {
    "collapsed": true
   },
   "outputs": [],
   "source": [
    "import sys\n",
    "\n",
    "n = int(raw_input())\n",
    "Q = map(int, raw_input().split(' '))\n",
    "\n",
    "mean = sum(Q)/n\n",
    "\n",
    "stddev = sum([((x-mean)**2) for x in Q])/n\n",
    "stddev = stddev**0.5\n",
    "\n",
    "print('%.1f'%stddev)"
   ]
  },
  {
   "cell_type": "markdown",
   "metadata": {},
   "source": [
    "Interquartile range  #   Q3 - Q1"
   ]
  },
  {
   "cell_type": "code",
   "execution_count": null,
   "metadata": {
    "collapsed": true
   },
   "outputs": [],
   "source": [
    "import sys\n",
    "\n",
    "num = int(raw_input())\n",
    "q = map(int, raw_input().split(' '))\n",
    "F = map(int, raw_input().split(' '))\n",
    "Q = []\n",
    "for i in range(num):\n",
    "    for _ in range(F[i]):\n",
    "        Q.append(q[i])\n",
    "        \n",
    "Q = sorted(Q)\n",
    "mid = len(Q) // 2 # floor division\n",
    "\n",
    "def median(median_numbers):\n",
    "    middle = len(median_numbers) // 2  # floor division\n",
    "    if (len(median_numbers) % 2 == 0):  # even\n",
    "        return (median_numbers[middle-1] + median_numbers[middle]) / 2\n",
    "    else:\n",
    "        return median_numbers[middle]\n",
    "\n",
    "    \n",
    "# actual program starts here    \n",
    "if (len(Q) % 2 == 0):    # even\n",
    "    Q1 = median(Q[:mid])\n",
    "    Q3 = median(Q[mid:])\n",
    "else:\n",
    "    # if odd set of numbers\n",
    "    Q1 = median(Q[:mid])\n",
    "    Q3 = median(Q[mid+1:])\n",
    "\n",
    "print ('%.1f'%(Q3-Q1))"
   ]
  },
  {
   "cell_type": "markdown",
   "metadata": {},
   "source": [
    "Day 2:\n",
    "\n",
    "Basic Probability"
   ]
  },
  {
   "cell_type": "code",
   "execution_count": null,
   "metadata": {
    "collapsed": true
   },
   "outputs": [],
   "source": []
  }
 ],
 "metadata": {
  "kernelspec": {
   "display_name": "Python 2",
   "language": "python",
   "name": "python2"
  },
  "language_info": {
   "codemirror_mode": {
    "name": "ipython",
    "version": 2
   },
   "file_extension": ".py",
   "mimetype": "text/x-python",
   "name": "python",
   "nbconvert_exporter": "python",
   "pygments_lexer": "ipython2",
   "version": "2.7.13"
  }
 },
 "nbformat": 4,
 "nbformat_minor": 2
}
