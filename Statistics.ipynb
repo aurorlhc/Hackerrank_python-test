{
 "cells": [
  {
   "cell_type": "markdown",
   "metadata": {},
   "source": [
    "Day 6:\n",
    "\n",
    "The Central Limit Theorem\n",
    "\n",
    "The z-score is a factor telling you with what probability you land in an interval of z standard deviations away from the mean (in both directions) e.g.:\n",
    "\n",
    "    with probability 68% you are 1 sd away from the mean (z-score = 1)\n",
    "\n",
    "    with probability 95% you are within 2 sd from the mean\n",
    "\n",
    "    with probability 99.7% you are within 3 sd ...\n",
    "\n",
    "this is called the 68 95 99.7 rule. (google it for meaningful illustrations).\n",
    "\n",
    "Now the autor tells us to take 1.96 as z-score instead of 2 because 1.96 is a more exact z-value for 95%, comming from a z-table or inverse PDF function.\n",
    "\n",
    "if you read the question carefully, you will notice he tells you the poulation mean and population standard deviation but asks you for the interval on the sample.\n",
    "\n",
    "So you need to convert the population standard deviation into the sample standard deviation by dividing it by the square-root of the sample size.\n",
    "\n",
    "Further you need to know that the mean of the sample is the mean of the population.\n",
    "\n",
    "Since you get the z-value your lower limit of the interval is mean - z_score * sd_sample, the uper limit is symetrical.\n",
    "\n",
    "The true values are: mean_sample = mean_population, and sd_sample = sd_population / sqrt(n) !!!\n",
    "\n",
    "There a good tutorial on Kahn university and the MIT OCW has a wonderful course on probability."
   ]
  },
  {
   "cell_type": "code",
   "execution_count": null,
   "metadata": {
    "collapsed": true
   },
   "outputs": [],
   "source": [
    "import sys\n",
    "import math\n",
    "\n",
    "W = int(raw_input())\n",
    "n = int(raw_input())\n",
    "mu = float(raw_input())\n",
    "sigma = float(raw_input())\n",
    "\n",
    "mu_p = mu*n\n",
    "sigma_p = sigma*(n**0.5)\n",
    "\n",
    "def erf(x):\n",
    "    return math.erf(x)\n",
    "\n",
    "def normal_distr(mu, sigma, x):\n",
    "    return 0.5*(1+erf((x-mu)/(sigma*(2**0.5))))\n",
    "\n",
    "P = normal_distr(mu_p, sigma_p, W)\n",
    "\n",
    "print('%.4f'%P)"
   ]
  },
  {
   "cell_type": "code",
   "execution_count": null,
   "metadata": {
    "collapsed": true
   },
   "outputs": [],
   "source": [
    "import sys\n",
    "\n",
    "n = int(raw_input())\n",
    "mu = float(raw_input())\n",
    "sigma = float(raw_input())\n",
    "interval = float(raw_input())\n",
    "z = float(raw_input())\n",
    "\n",
    "sam_std = sigma/(n**0.5) #convert std of population to std of sample\n",
    "                         #mean of population = mean of sample, no action needed\n",
    "\n",
    "B = mu + z*sam_std\n",
    "A = mu - z*sam_std\n",
    "\n",
    "print('%.2f'%A)\n",
    "print('%.2f'%B)"
   ]
  },
  {
   "cell_type": "markdown",
   "metadata": {},
   "source": [
    "Day 7:\n",
    "\n",
    "Pearson Correlation Coefficient"
   ]
  },
  {
   "cell_type": "code",
   "execution_count": null,
   "metadata": {
    "collapsed": true
   },
   "outputs": [],
   "source": [
    "import sys\n",
    "\n",
    "n = int(raw_input())\n",
    "X = map(float, raw_input().strip().split(' '))\n",
    "Y = map(float, raw_input().strip().split(' '))\n",
    "\n",
    "def mean(n, X):\n",
    "    x = sum(X)\n",
    "    return x/n\n",
    "\n",
    "def std(mean, n, X):\n",
    "    ss = sum([((x-mean)**2) for x in X])/n\n",
    "    return ss**0.5\n",
    "\n",
    "mean_X = mean(n, X)\n",
    "mean_Y = mean(n, Y)\n",
    "std_X = std(mean_X, n, X)\n",
    "std_Y = std(mean_Y, n, Y)\n",
    "\n",
    "p = 0\n",
    "\n",
    "for i in range(n):\n",
    "    p += (X[i] - mean_X)*(Y[i]-mean_Y)\n",
    "    \n",
    "p = p/(std_X*std_Y*n)\n",
    "\n",
    "print('%.3f'%p)"
   ]
  },
  {
   "cell_type": "markdown",
   "metadata": {},
   "source": [
    "Spearman's Rank Correlation Coefficient"
   ]
  },
  {
   "cell_type": "code",
   "execution_count": null,
   "metadata": {
    "collapsed": true
   },
   "outputs": [],
   "source": [
    "#the tricky part is to find the rank matrix for X and Y\n",
    "\n",
    "import sys\n",
    "\n",
    "n = int(raw_input())\n",
    "X = list(map(float, raw_input().strip().split(' ')))\n",
    "Y = list(map(float, raw_input().strip().split(' ')))\n",
    "\n",
    "def get_rank(X, n):\n",
    "    x_rank = dict((x, i+1) for i, x in enumerate(sorted(set(X))))\n",
    "    return [x_rank[x] for x in X]\n",
    "\n",
    "rx = get_rank(X, n)\n",
    "# print rx\n",
    "ry = get_rank(Y, n)\n",
    "# print ry\n",
    "d = sum([(rx[i] - ry[i])**2 for i in range(n)])\n",
    "# print d\n",
    "rxy = 1 - (6.0*d)/(n*(n*n -1))\n",
    "\n",
    "print('%.3f' % rxy)"
   ]
  }
 ],
 "metadata": {
  "kernelspec": {
   "display_name": "Python 2",
   "language": "python",
   "name": "python2"
  },
  "language_info": {
   "codemirror_mode": {
    "name": "ipython",
    "version": 2
   },
   "file_extension": ".py",
   "mimetype": "text/x-python",
   "name": "python",
   "nbconvert_exporter": "python",
   "pygments_lexer": "ipython2",
   "version": "2.7.13"
  }
 },
 "nbformat": 4,
 "nbformat_minor": 2
}
