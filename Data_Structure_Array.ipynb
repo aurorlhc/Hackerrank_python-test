{
 "cells": [
  {
   "cell_type": "markdown",
   "metadata": {},
   "source": [
    "# Hacker Rank Data Structure Practice"
   ]
  },
  {
   "cell_type": "markdown",
   "metadata": {},
   "source": [
    "Arrays-DS"
   ]
  },
  {
   "cell_type": "code",
   "execution_count": 6,
   "metadata": {},
   "outputs": [],
   "source": [
    "import sys"
   ]
  },
  {
   "cell_type": "code",
   "execution_count": null,
   "metadata": {},
   "outputs": [],
   "source": [
    "n = int(raw_input().strip())\n",
    "arr = map(int,raw_input().strip().split(' '))"
   ]
  },
  {
   "cell_type": "code",
   "execution_count": 40,
   "metadata": {},
   "outputs": [
    {
     "name": "stdout",
     "output_type": "stream",
     "text": [
      "2 3 4 1\n"
     ]
    }
   ],
   "source": [
    "print(\" \".join(map(str,arr[::-1])))"
   ]
  },
  {
   "cell_type": "markdown",
   "metadata": {},
   "source": [
    "2D Array-DS"
   ]
  },
  {
   "cell_type": "code",
   "execution_count": 44,
   "metadata": {},
   "outputs": [
    {
     "name": "stdout",
     "output_type": "stream",
     "text": [
      "1 1 1 0 0 0\n",
      "0 1 0 0 0 0\n",
      "1 1 1 0 0 0\n",
      "0 0 2 4 4 0\n",
      "0 0 0 2 0 0\n",
      "0 0 1 2 4 0\n"
     ]
    }
   ],
   "source": [
    "import sys\n",
    "\n",
    "arr = []\n",
    "for arr_i in xrange(6):\n",
    "    arr_temp = map(int,raw_input().strip().split(' '))\n",
    "    arr.append(arr_temp)"
   ]
  },
  {
   "cell_type": "code",
   "execution_count": null,
   "metadata": {},
   "outputs": [],
   "source": [
    "max = -63 #initialize to be the minimum possible\n",
    "\n",
    "for i in range(len(arr)-2):\n",
    "    for j in range(len(arr)-2):\n",
    "        sum = 0\n",
    "        sum = arr[i][j] + arr[i][j+1] + arr[i][j+2] + arr[i+1][j+1] + arr[i+2][j] + arr[i+2][j+1] + arr[i+2][j+2]\n",
    "        if max<= sum:\n",
    "            max = sum\n",
    "            \n",
    "print(max)"
   ]
  },
  {
   "cell_type": "markdown",
   "metadata": {},
   "source": [
    "Dynamic Array-DS"
   ]
  },
  {
   "cell_type": "code",
   "execution_count": null,
   "metadata": {},
   "outputs": [],
   "source": [
    "N, Q = map(int, raw_input().split(\" \"))\n",
    "LastAns = 0\n",
    "arr = []  #initialize list with N sequence\n",
    "\n",
    "for i in range(N):\n",
    "    arr.append([])\n",
    "\n",
    "for i in range(Q):\n",
    "    q, x, y = map(int, raw_input().split(\" \"))\n",
    "    \n",
    "    print(\"q = %d, x = %d, y = %d\"% (q,x,y))\n",
    "        \n",
    "    if q == 1:\n",
    "        s = (x^LastAns)%N\n",
    "        arr[s].append(y)\n",
    "        print(\"s = %d, LastAns = %d\" % (s,LastAns))\n",
    "        \n",
    "    elif q == 2:\n",
    "        s = (x^LastAns)%N\n",
    "        value = arr[s][y%len(arr[s])]\n",
    "        LastAns = value\n",
    "        print(LastAns)\n",
    "        \n",
    "    else:\n",
    "        print(\"Input Error: there are only two query types !!\")\n",
    "        \n",
    "    print(arr)"
   ]
  },
  {
   "cell_type": "code",
   "execution_count": null,
   "metadata": {
    "collapsed": true
   },
   "outputs": [],
   "source": [
    "#submitted solution, passed all tests!!\n",
    "\n",
    "import sys\n",
    "\n",
    "sys_input = sys.stdin.readline()\n",
    "    \n",
    "[N, Q] = sys_input.strip().split(\" \")\n",
    "[N, Q] = [int(N), int(Q)]\n",
    "\n",
    "lastAns = 0\n",
    "\n",
    "\n",
    "arr = []\n",
    "for i in range(N):\n",
    "    arr.append([])\n",
    "\n",
    "    \n",
    "for i in range(Q):\n",
    "    para_input = sys.stdin.readline()\n",
    "    [q,x,y] = para_input.strip().split(\" \")\n",
    "    [q,x,y] = [int(q),int(x),int(y)]\n",
    "    \n",
    "    if q == 1:\n",
    "        s = (x^lastAns)%N\n",
    "        arr[s].append(y)\n",
    "        \n",
    "    elif q == 2:\n",
    "        s = (x^lastAns)%N\n",
    "        value = arr[s][y%len(arr[s])]\n",
    "        lastAns = value\n",
    "        print(lastAns)"
   ]
  },
  {
   "cell_type": "markdown",
   "metadata": {},
   "source": [
    "Left_Rotation-DS"
   ]
  },
  {
   "cell_type": "code",
   "execution_count": 83,
   "metadata": {},
   "outputs": [
    {
     "name": "stdout",
     "output_type": "stream",
     "text": [
      "5 1 2 3 4\n"
     ]
    }
   ],
   "source": [
    "import sys\n",
    "# [n,d] = map(int, sys.stdin.readline().strip().split(\" \"))\n",
    "# arr = sys.stdin.readline().strip().split(\" \")\n",
    "# print(arr)\n",
    "\n",
    "d=4\n",
    "arr = [1,2,3,4,5]\n",
    "\n",
    "def left_rotation(d):\n",
    "    new_right = arr[:d]\n",
    "    new_left = arr[d:]\n",
    "    arr_new = \" \".join(map(str, new_left+new_right))\n",
    "    print(arr_new)\n",
    " \n",
    "   \n",
    "left_rotation(d)"
   ]
  },
  {
   "cell_type": "markdown",
   "metadata": {},
   "source": [
    "Sparse Arrays-DS"
   ]
  },
  {
   "cell_type": "code",
   "execution_count": null,
   "metadata": {
    "collapsed": true
   },
   "outputs": [],
   "source": [
    "import sys\n",
    "\n",
    "N = int(sys.stdin.readline().strip())\n",
    "arr = []\n",
    "for i in range(N):\n",
    "    arr.append(sys.stdin.readline().strip())\n",
    "    # print(arr[i])\n",
    "    \n",
    "Q = int(sys.stdin.readline().strip())\n",
    "for i in range(Q):\n",
    "    count = 0\n",
    "    ss = sys.stdin.readline().strip()\n",
    "    for j in range(len(arr)):\n",
    "        if ss == arr[j]:\n",
    "            count += 1\n",
    "            \n",
    "    print(count)\n",
    "    \n",
    "\n",
    "# use counter\n",
    "import sys\n",
    "from collections import Counter\n",
    "\n",
    "arr = []\n",
    "N = int(raw_input())\n",
    "for _ in range(N):\n",
    "    arr.append(raw_input().strip())\n",
    "count = Counter(arr)\n",
    "Q = int(raw_input())\n",
    "for _ in range(Q):\n",
    "    tmp = raw_input().strip()\n",
    "    if tmp in count:\n",
    "        print count[tmp]\n",
    "    else:\n",
    "        print 0"
   ]
  },
  {
   "cell_type": "markdown",
   "metadata": {},
   "source": [
    "Aldorithmic crush-DS"
   ]
  },
  {
   "cell_type": "code",
   "execution_count": null,
   "metadata": {
    "collapsed": true
   },
   "outputs": [],
   "source": [
    "import sys\n",
    "\n",
    "[N, M] = map(int, sys.stdin.readline().strip().split(\" \"))\n",
    "\n",
    "arr = [0]*(N+1)\n",
    "max = 0\n",
    "x = 0\n",
    "\n",
    "for i in range(M):\n",
    "    [a,b,k] = map(int, sys.stdin.readline().strip().split(\" \"))\n",
    "    arr[a-1] += k  #bigger than the previous element by k\n",
    "    if b < len(arr): \n",
    "        arr[b] -= k #smaller than the previous element by k\n",
    "    \n",
    "for i in arr:\n",
    "    x += i\n",
    "    if max<x:\n",
    "        max = x\n",
    "    \n",
    "print(max)"
   ]
  }
 ],
 "metadata": {
  "kernelspec": {
   "display_name": "Python 2",
   "language": "python",
   "name": "python2"
  },
  "language_info": {
   "codemirror_mode": {
    "name": "ipython",
    "version": 2
   },
   "file_extension": ".py",
   "mimetype": "text/x-python",
   "name": "python",
   "nbconvert_exporter": "python",
   "pygments_lexer": "ipython2",
   "version": "2.7.13"
  }
 },
 "nbformat": 4,
 "nbformat_minor": 2
}
