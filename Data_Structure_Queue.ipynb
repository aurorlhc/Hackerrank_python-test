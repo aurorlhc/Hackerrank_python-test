{
 "cells": [
  {
   "cell_type": "markdown",
   "metadata": {},
   "source": [
    "Queue with two stacks"
   ]
  },
  {
   "cell_type": "code",
   "execution_count": null,
   "metadata": {
    "collapsed": true
   },
   "outputs": [],
   "source": [
    "import sys\n",
    "Q = int(raw_input().strip())\n",
    "stack = []\n",
    "\n",
    "for _ in range(Q):\n",
    "    q = map(int, raw_input().strip().split())\n",
    "    if q[0] == 1: #enqueue\n",
    "        stack.append(q[1])\n",
    "    elif q[0] == 2: #dequeue\n",
    "        stack.pop(0)\n",
    "    elif q[0] == 3: #print current head of the queue\n",
    "        print(stack[0])"
   ]
  },
  {
   "cell_type": "code",
   "execution_count": null,
   "metadata": {
    "collapsed": true
   },
   "outputs": [],
   "source": [
    "old, new = [], []\n",
    "for _ in range(int(input())):\n",
    "    val = list(map(int,input().split()))\n",
    "    if val[0] == 1:\n",
    "        if not new :        # Row added\n",
    "            first = val[1]  # Row added\n",
    "        new.append(val[1])\n",
    "    elif val[0] == 2:\n",
    "        if not old :\n",
    "            while new : old.append(new.pop())\n",
    "        old.pop()\n",
    "    else:\n",
    "        print(old[-1] if old else first)"
   ]
  },
  {
   "cell_type": "markdown",
   "metadata": {},
   "source": [
    "Down to Zero"
   ]
  },
  {
   "cell_type": "code",
   "execution_count": null,
   "metadata": {
    "collapsed": false
   },
   "outputs": [],
   "source": [
    "N = 1\n",
    "Q = 903900\n",
    "\n",
    "num = [-1]*(Q+1)\n",
    "num[0] = 0\n",
    "num[1] = 1\n",
    "num[2] = 2\n",
    "num[3] = 3\n",
    "\n",
    "for i in range(1, Q+1):\n",
    "    if num[i] == -1 or num[i] > num[i-1]+1:\n",
    "        num[i] = num[i-1]+1\n",
    "    for j in range(1,i+1):\n",
    "        if j*i<=Q:\n",
    "            if num[j*i] == -1 or num[i]+1<num[j*i]:\n",
    "                num[j*i] = num[i] + 1\n",
    "            \n",
    "print(num[903900])"
   ]
  },
  {
   "cell_type": "code",
   "execution_count": null,
   "metadata": {
    "collapsed": true
   },
   "outputs": [],
   "source": []
  }
 ],
 "metadata": {
  "kernelspec": {
   "display_name": "Python 2",
   "language": "python",
   "name": "python2"
  },
  "language_info": {
   "codemirror_mode": {
    "name": "ipython",
    "version": 2
   },
   "file_extension": ".py",
   "mimetype": "text/x-python",
   "name": "python",
   "nbconvert_exporter": "python",
   "pygments_lexer": "ipython2",
   "version": "2.7.13"
  }
 },
 "nbformat": 4,
 "nbformat_minor": 2
}
