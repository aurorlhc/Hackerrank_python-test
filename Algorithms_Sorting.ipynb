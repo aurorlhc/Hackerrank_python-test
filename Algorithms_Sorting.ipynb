{
 "cells": [
  {
   "cell_type": "markdown",
   "metadata": {},
   "source": [
    "Big Sorting"
   ]
  },
  {
   "cell_type": "code",
   "execution_count": null,
   "metadata": {
    "collapsed": true
   },
   "outputs": [],
   "source": [
    "#Use bucket to store values with the same length\n",
    "\n",
    "import sys\n",
    "\n",
    "n = int(raw_input().strip())\n",
    "unsorted = []\n",
    "unsorted_i = 0\n",
    "arr = {}\n",
    "for unsorted_i in xrange(n):\n",
    "    unsorted_t = str(raw_input().strip())\n",
    "    unsorted.append(unsorted_t)\n",
    "    # your code goes here\n",
    "    length = len(unsorted_t)\n",
    "    if length not in arr:\n",
    "        arr[length] = []\n",
    "    arr[length].append(unsorted_t)\n",
    "    \n",
    "for key in sorted(arr):\n",
    "    for value in sorted(arr[key]):\n",
    "        print(value)"
   ]
  },
  {
   "cell_type": "markdown",
   "metadata": {},
   "source": [
    "Merge Sort, O(nlogn) time, O(n) space"
   ]
  },
  {
   "cell_type": "code",
   "execution_count": 30,
   "metadata": {
    "collapsed": false
   },
   "outputs": [
    {
     "name": "stdout",
     "output_type": "stream",
     "text": [
      "7\n",
      "[1, 3, 3, 5, 7, 9, 10]\n"
     ]
    }
   ],
   "source": [
    "array = [1,5,7,3,10,3,9]\n",
    "n = len(array)\n",
    "print(n)\n",
    "\n",
    "helper = []\n",
    "\n",
    "def mergesort(a, left, right):\n",
    "    if left<right:\n",
    "        middle = int((left+right)/2)\n",
    "        # print (left, middle, right)\n",
    "        mergesort(a, left, middle)\n",
    "        mergesort(a, middle+1, right)\n",
    "        merge(a, left, middle, right)\n",
    "    return a\n",
    "        \n",
    "def merge(a, left, middle, right):\n",
    "    # print a,b,left,middle,right\n",
    "    b = [0]*len(a)\n",
    "    for i in range(left,right+1):\n",
    "        b[i] = a[i]\n",
    "    # print (b)\n",
    "    h_left = left \n",
    "    h_right = middle + 1\n",
    "    current = left\n",
    "    \n",
    "    while h_left <= middle and h_right <= right:\n",
    "        if b[h_left] <= b[h_right]:\n",
    "            a[current] = b[h_left]\n",
    "            h_left += 1\n",
    "        else:\n",
    "            a[current] = b[h_right]\n",
    "            h_right += 1\n",
    "        current += 1\n",
    "    \n",
    "    remain = middle - h_left\n",
    "    if remain >= 0:\n",
    "        for i in range(0,remain+1):\n",
    "            a[current+i] = b[h_left+i]\n",
    "    # print (a)        \n",
    "    return a\n",
    "            \n",
    "array = mergesort(array, 0, n-1)\n",
    "print array"
   ]
  },
  {
   "cell_type": "markdown",
   "metadata": {},
   "source": [
    "Quick Sort"
   ]
  },
  {
   "cell_type": "code",
   "execution_count": 37,
   "metadata": {
    "collapsed": false
   },
   "outputs": [
    {
     "name": "stdout",
     "output_type": "stream",
     "text": [
      "[1, 3, 3, 5, 7, 9, 10]\n"
     ]
    }
   ],
   "source": [
    "array = [1,5,7,3,10,3,9]\n",
    "n = len(array)\n",
    "\n",
    "def swap(a, left, right):\n",
    "    temp = a[left]\n",
    "    a[left] = a[right]\n",
    "    a[right] = temp\n",
    "    return a\n",
    "\n",
    "def quicksort(a, left, right):\n",
    "    index = partition(a, left, right)\n",
    "    #print index\n",
    "    if left < index-1:\n",
    "        quicksort(a, left, index-1)\n",
    "    if index < right:\n",
    "        quicksort(a, index, right)\n",
    "    return a\n",
    "\n",
    "def partition(a, left, right):\n",
    "    pivot = a[int((left+right)/2)]\n",
    "    while left <= right:\n",
    "        while a[left]<pivot:\n",
    "            left += 1\n",
    "        while a[right]>pivot:\n",
    "            right -= 1\n",
    "        if left <= right:\n",
    "            a = swap(a, left, right)\n",
    "            left += 1\n",
    "            right -= 1\n",
    "    return left\n",
    "\n",
    "array = quicksort(array, 0, n-1)\n",
    "print(array)"
   ]
  },
  {
   "cell_type": "markdown",
   "metadata": {},
   "source": []
  }
 ],
 "metadata": {
  "kernelspec": {
   "display_name": "Python 2",
   "language": "python",
   "name": "python2"
  },
  "language_info": {
   "codemirror_mode": {
    "name": "ipython",
    "version": 2
   },
   "file_extension": ".py",
   "mimetype": "text/x-python",
   "name": "python",
   "nbconvert_exporter": "python",
   "pygments_lexer": "ipython2",
   "version": "2.7.13"
  }
 },
 "nbformat": 4,
 "nbformat_minor": 2
}
