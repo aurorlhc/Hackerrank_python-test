{
 "cells": [
  {
   "cell_type": "markdown",
   "metadata": {},
   "source": [
    "Big Sorting"
   ]
  },
  {
   "cell_type": "code",
   "execution_count": null,
   "metadata": {
    "collapsed": true
   },
   "outputs": [],
   "source": [
    "#Use bucket to store values with the same length\n",
    "\n",
    "import sys\n",
    "\n",
    "n = int(raw_input().strip())\n",
    "unsorted = []\n",
    "unsorted_i = 0\n",
    "arr = {}\n",
    "for unsorted_i in xrange(n):\n",
    "    unsorted_t = str(raw_input().strip())\n",
    "    unsorted.append(unsorted_t)\n",
    "    # your code goes here\n",
    "    length = len(unsorted_t)\n",
    "    if length not in arr:\n",
    "        arr[length] = []\n",
    "    arr[length].append(unsorted_t)\n",
    "    \n",
    "for key in sorted(arr):\n",
    "    for value in sorted(arr[key]):\n",
    "        print(value)"
   ]
  },
  {
   "cell_type": "markdown",
   "metadata": {},
   "source": [
    "Insertion Sort - 1"
   ]
  },
  {
   "cell_type": "code",
   "execution_count": null,
   "metadata": {
    "collapsed": true
   },
   "outputs": [],
   "source": []
  }
 ],
 "metadata": {
  "kernelspec": {
   "display_name": "Python 2",
   "language": "python",
   "name": "python2"
  },
  "language_info": {
   "codemirror_mode": {
    "name": "ipython",
    "version": 2
   },
   "file_extension": ".py",
   "mimetype": "text/x-python",
   "name": "python",
   "nbconvert_exporter": "python",
   "pygments_lexer": "ipython2",
   "version": "2.7.13"
  }
 },
 "nbformat": 4,
 "nbformat_minor": 2
}
