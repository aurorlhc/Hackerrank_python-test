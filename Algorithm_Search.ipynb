{
 "cells": [
  {
   "cell_type": "markdown",
   "metadata": {},
   "source": [
    "Minimum Loss"
   ]
  },
  {
   "cell_type": "code",
   "execution_count": null,
   "metadata": {
    "collapsed": true
   },
   "outputs": [],
   "source": [
    "import sys\n",
    "\n",
    "n = int(sys.stdin.readline())\n",
    "value = map(int, sys.stdin.readline().strip().split(\" \"))\n",
    "values = list(value)\n",
    "values.sort() #sort the array\n",
    "\n",
    "Min = sum(values)\n",
    "\n",
    "for i in range(1,n):\n",
    "    if(values[i]-values[i-1]<Min) and (value.index(values[i])<value.index(values[i-1])):\n",
    "        Min = values[i] - values[i-1]\n",
    "                \n",
    "print(Min)"
   ]
  }
 ],
 "metadata": {
  "kernelspec": {
   "display_name": "Python 2",
   "language": "python",
   "name": "python2"
  },
  "language_info": {
   "codemirror_mode": {
    "name": "ipython",
    "version": 2
   },
   "file_extension": ".py",
   "mimetype": "text/x-python",
   "name": "python",
   "nbconvert_exporter": "python",
   "pygments_lexer": "ipython2",
   "version": "2.7.13"
  }
 },
 "nbformat": 4,
 "nbformat_minor": 2
}
