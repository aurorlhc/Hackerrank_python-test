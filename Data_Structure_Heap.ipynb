{
 "cells": [
  {
   "cell_type": "markdown",
   "metadata": {
    "collapsed": true
   },
   "source": [
    "Qheap"
   ]
  },
  {
   "cell_type": "code",
   "execution_count": 2,
   "metadata": {
    "collapsed": false
   },
   "outputs": [
    {
     "data": {
      "text/plain": [
       "[1, 2, 3, 4, 5, 0]"
      ]
     },
     "execution_count": 2,
     "metadata": {},
     "output_type": "execute_result"
    }
   ],
   "source": [
    "que = [1,2,3,4,5]\n",
    "que = que + [0]\n",
    "que"
   ]
  },
  {
   "cell_type": "code",
   "execution_count": null,
   "metadata": {
    "collapsed": true
   },
   "outputs": [],
   "source": [
    "import sys\n",
    "Q = int(raw_input())\n",
    "\n",
    "sort_queue = []\n",
    "queue = []\n",
    "\n",
    "for _ in range(Q):\n",
    "    que = map(int, raw_input().strip().split(\" \"))\n",
    "    if que[0] == 1:  #add element into heap\n",
    "        if len(queue) == 0:\n",
    "            queue.append(que[1])\n",
    "            sort_queue.append(que[1])\n",
    "        else:\n",
    "            count = 0\n",
    "            for i in range(len(queue)):\n",
    "                if que[1] == queue[i]:\n",
    "                    count = 1\n",
    "                    break\n",
    "            if count == 0:\n",
    "                queue.append(que[1])\n",
    "                if que[i] > cur_min[-1]:\n",
    "                    # cur_min.append(que[i])\n",
    "    elif que[0] == 2: #delete element from heap\n",
    "        # if cur_min[-1] == que[1]:\n",
    "            # cur_min.pop()\n",
    "        queue.pop(queue.index(que[1]))\n",
    "                  \n",
    "    else: #print minimum element in the heap\n",
    "        # print(cur_min[-1])\n",
    "        # print()\n"
   ]
  }
 ],
 "metadata": {
  "kernelspec": {
   "display_name": "Python 2",
   "language": "python",
   "name": "python2"
  },
  "language_info": {
   "codemirror_mode": {
    "name": "ipython",
    "version": 2
   },
   "file_extension": ".py",
   "mimetype": "text/x-python",
   "name": "python",
   "nbconvert_exporter": "python",
   "pygments_lexer": "ipython2",
   "version": "2.7.13"
  }
 },
 "nbformat": 4,
 "nbformat_minor": 2
}
