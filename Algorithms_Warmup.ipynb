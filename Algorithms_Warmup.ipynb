{
 "cells": [
  {
   "cell_type": "markdown",
   "metadata": {},
   "source": [
    "Solve Me First"
   ]
  },
  {
   "cell_type": "code",
   "execution_count": null,
   "metadata": {
    "collapsed": true
   },
   "outputs": [],
   "source": [
    "def solveMeFirst(a,b):\n",
    "    # Hint: Type return a+b below\n",
    "    return a+b\n",
    "\n",
    "num1 = input()\n",
    "num2 = input()\n",
    "res = solveMeFirst(num1,num2)\n",
    "print res"
   ]
  },
  {
   "cell_type": "markdown",
   "metadata": {},
   "source": [
    "Simple Array Sum"
   ]
  },
  {
   "cell_type": "code",
   "execution_count": null,
   "metadata": {
    "collapsed": true
   },
   "outputs": [],
   "source": [
    "import sys\n",
    "\n",
    "n = int(raw_input().strip())\n",
    "arr = map(int,raw_input().strip().split(' '))\n",
    "\n",
    "count = 0\n",
    "for i in range(n):\n",
    "    count += arr[i]\n",
    "    \n",
    "print(count)"
   ]
  },
  {
   "cell_type": "markdown",
   "metadata": {},
   "source": [
    "Staircase"
   ]
  },
  {
   "cell_type": "code",
   "execution_count": null,
   "metadata": {
    "collapsed": true
   },
   "outputs": [],
   "source": [
    "import sys\n",
    "\n",
    "n = int(raw_input().strip())\n",
    "stair = []\n",
    "for i in range(n):\n",
    "    staircase = [\" \"]*(n-1-i)+[\"#\"]*(i+1)\n",
    "    staircase = ''.join(staircase)\n",
    "    stair.append(staircase)\n",
    "\n",
    "for i in range(n):\n",
    "    print(stair[i])"
   ]
  },
  {
   "cell_type": "markdown",
   "metadata": {},
   "source": [
    "Max-Min Sum"
   ]
  },
  {
   "cell_type": "code",
   "execution_count": null,
   "metadata": {
    "collapsed": true
   },
   "outputs": [],
   "source": [
    "import sys\n",
    "\n",
    "arr = map(int, raw_input().strip().split(' '))\n",
    "Max = 0 \n",
    "Sum = Min = sum(arr)\n",
    "\n",
    "for i in range(len(arr)):\n",
    "    Min = min(Min, Sum-arr[i])\n",
    "    Max = max(Max, Sum-arr[i])\n",
    "    \n",
    "print(\"%d %d\" % (Min, Max))"
   ]
  },
  {
   "cell_type": "markdown",
   "metadata": {},
   "source": [
    "Time Conversion"
   ]
  },
  {
   "cell_type": "code",
   "execution_count": null,
   "metadata": {
    "collapsed": true
   },
   "outputs": [],
   "source": [
    "import sys\n",
    "\n",
    "time = raw_input().strip()\n",
    "\n",
    "if time[-2:] == \"PM\":\n",
    "    if time[:2] != \"12\":\n",
    "        hour = int(time[:2]) + 12\n",
    "        if hour == 24:\n",
    "            time == \"00\" + time[2:-2]\n",
    "        else:\n",
    "            time = str(hour) + time[2:-2]\n",
    "    else:\n",
    "        time = time[:-2]\n",
    "else:\n",
    "    if time[:2] == \"12\":\n",
    "        time = \"00\" + time[2:-2]\n",
    "    else:\n",
    "        time = time[:-2]\n",
    "print(time)"
   ]
  }
 ],
 "metadata": {
  "kernelspec": {
   "display_name": "Python 2",
   "language": "python",
   "name": "python2"
  },
  "language_info": {
   "codemirror_mode": {
    "name": "ipython",
    "version": 2
   },
   "file_extension": ".py",
   "mimetype": "text/x-python",
   "name": "python",
   "nbconvert_exporter": "python",
   "pygments_lexer": "ipython2",
   "version": "2.7.13"
  }
 },
 "nbformat": 4,
 "nbformat_minor": 2
}
